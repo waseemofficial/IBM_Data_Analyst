{
 "cells": [
  {
   "cell_type": "markdown",
   "metadata": {},
   "source": [
    "# DATA ANALYSIS"
   ]
  },
  {
   "cell_type": "markdown",
   "metadata": {},
   "source": [
    "## Model Evaluation\n",
    "- in-sample evaluation tells us how well our model will fit that data used to train it\n",
    "- Problem ?\n",
    "  - it does not tell us how the trained model can be used to predict new data\n",
    "- Solution ?\n",
    "  - in-sample data or training data\n",
    "  - Out-of-sample evaluation or test set\n",
    "\n",
    "### <h1 align=\"center\">Training/Testing Set</h1>\n",
    "\n",
    "- split data into:\n",
    "  - training set(70%)\n",
    "  - testing set(30%)\n",
    "- Building and training the model with a training set\n",
    "- Use testing set to assess the proformance of a predictive model\n",
    "- when we have completed testing our model we should use all the data to train the model to get the best proformance \n",
    "\n",
    "## Function train_test_split()\n",
    "- split data into training and testing subsets\n",
    "  ```py\n",
    "  from sklearn.model_selection import train_test_split\n",
    "  x_train,x_test,y_train,y_test=train_test_split(x_data,y_data,test_size=0.3,random_state=0)\n",
    "  ``` \n",
    "  - **x_data**: features or imdependent variables\n",
    "  - **y_data**: dataset target: df[\"price\"]\n",
    "  - **x_train,y_train**: parts of available data as training set\n",
    "  - **x_test,y_test**: parts of available data as testing set\n",
    "  - **test_size**: percentage of the data for testing (here 30%)\n",
    "  - **random_set**: number generator used for random sample \n",
    "  \n",
    "### Generalization Performance\n",
    "- Generaalization error is __measure__ of how well our data does at predicting previously unseen data\n",
    "- the error we obtain using our testing data is an approximation of this error\n",
    "\n",
    "### Cross Validation\n",
    "- Most common out-of-sample/test-set evaluation metrics\n",
    "- More effective use of data (each observation is used for both training anf)\n",
    "- "
   ]
  },
  {
   "cell_type": "markdown",
   "metadata": {},
   "source": [
    "## Ridge Regression\n",
    "```py\n",
    "from sklearn.linear_model import Ridge\n",
    "RidgeModel=Ridge(alpha=0.1)\n",
    "RidgeModel.fit(X,y)\n",
    "Yhat=RidgeModel.predict(X)\n",
    "```\n"
   ]
  },
  {
   "cell_type": "markdown",
   "metadata": {},
   "source": [
    "## Grid Search\n",
    "```py\n",
    "from sklearn.linear_model import Ridge\n",
    "from sklearn.model_selection import GridSearchCV\n",
    "\n",
    "parameters1=[{'alpha':[0.001,0.1,1,10,100,1_000,10_000,1_00_000,]}]\n",
    "#? parameters1=[{'alpha':[0.001,0.1,1,10,100,1_000,10_000,1_00_000,],'normalize':[True,False]}]\n",
    "RR=Ridge()\n",
    "Grid1=GridSearchCV(RR,parameters1,cv=4)\n",
    "Grid1.fit(x_data[['horsepower','curb-weight','engine-size','highway-mpg']],y_data)\n",
    "Grid1.best_estimator_\n",
    "scores=Grid1.cv_results_\n",
    "scores['mean_test_score']\n",
    "```"
   ]
  }
 ],
 "metadata": {
  "kernelspec": {
   "display_name": "IBM_Data_analyst",
   "language": "python",
   "name": "python3"
  },
  "language_info": {
   "name": "python",
   "version": "3.11.5"
  }
 },
 "nbformat": 4,
 "nbformat_minor": 2
}
