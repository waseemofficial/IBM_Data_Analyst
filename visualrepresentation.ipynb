{
 "cells": [
  {
   "cell_type": "markdown",
   "metadata": {},
   "source": [
    "# Visual Representation of Data\n",
    " using seaborn and matplotlib"
   ]
  },
  {
   "cell_type": "code",
   "execution_count": 17,
   "metadata": {},
   "outputs": [],
   "source": [
    "# import libraries\n",
    "import pandas as pd\n",
    "import numpy as np\n",
    "import seaborn as sns\n",
    "import matplotlib.pyplot as plt\n",
    "import plotly.graph_objects as go\n",
    "sns.set_theme(style=\"darkgrid\")\n",
    "%matplotlib inline"
   ]
  },
  {
   "cell_type": "code",
   "execution_count": 2,
   "metadata": {},
   "outputs": [],
   "source": [
    "# read the file\n",
    "df_shopping_behavior = pd.read_csv(\"./DataSet/shopping_behavior_updated.csv\")"
   ]
  },
  {
   "cell_type": "code",
   "execution_count": 3,
   "metadata": {},
   "outputs": [
    {
     "data": {
      "text/html": [
       "<div>\n",
       "<style scoped>\n",
       "    .dataframe tbody tr th:only-of-type {\n",
       "        vertical-align: middle;\n",
       "    }\n",
       "\n",
       "    .dataframe tbody tr th {\n",
       "        vertical-align: top;\n",
       "    }\n",
       "\n",
       "    .dataframe thead th {\n",
       "        text-align: right;\n",
       "    }\n",
       "</style>\n",
       "<table border=\"1\" class=\"dataframe\">\n",
       "  <thead>\n",
       "    <tr style=\"text-align: right;\">\n",
       "      <th></th>\n",
       "      <th>Customer ID</th>\n",
       "      <th>Age</th>\n",
       "      <th>Gender</th>\n",
       "      <th>Item Purchased</th>\n",
       "      <th>Category</th>\n",
       "      <th>Purchase Amount (USD)</th>\n",
       "      <th>Location</th>\n",
       "      <th>Size</th>\n",
       "      <th>Color</th>\n",
       "      <th>Season</th>\n",
       "      <th>Review Rating</th>\n",
       "      <th>Subscription Status</th>\n",
       "      <th>Shipping Type</th>\n",
       "      <th>Discount Applied</th>\n",
       "      <th>Promo Code Used</th>\n",
       "      <th>Previous Purchases</th>\n",
       "      <th>Payment Method</th>\n",
       "      <th>Frequency of Purchases</th>\n",
       "    </tr>\n",
       "  </thead>\n",
       "  <tbody>\n",
       "    <tr>\n",
       "      <th>0</th>\n",
       "      <td>1</td>\n",
       "      <td>55</td>\n",
       "      <td>Male</td>\n",
       "      <td>Blouse</td>\n",
       "      <td>Clothing</td>\n",
       "      <td>53</td>\n",
       "      <td>Kentucky</td>\n",
       "      <td>L</td>\n",
       "      <td>Gray</td>\n",
       "      <td>Winter</td>\n",
       "      <td>3.1</td>\n",
       "      <td>Yes</td>\n",
       "      <td>Express</td>\n",
       "      <td>Yes</td>\n",
       "      <td>Yes</td>\n",
       "      <td>14</td>\n",
       "      <td>Venmo</td>\n",
       "      <td>Fortnightly</td>\n",
       "    </tr>\n",
       "    <tr>\n",
       "      <th>1</th>\n",
       "      <td>2</td>\n",
       "      <td>19</td>\n",
       "      <td>Male</td>\n",
       "      <td>Sweater</td>\n",
       "      <td>Clothing</td>\n",
       "      <td>64</td>\n",
       "      <td>Maine</td>\n",
       "      <td>L</td>\n",
       "      <td>Maroon</td>\n",
       "      <td>Winter</td>\n",
       "      <td>3.1</td>\n",
       "      <td>Yes</td>\n",
       "      <td>Express</td>\n",
       "      <td>Yes</td>\n",
       "      <td>Yes</td>\n",
       "      <td>2</td>\n",
       "      <td>Cash</td>\n",
       "      <td>Fortnightly</td>\n",
       "    </tr>\n",
       "    <tr>\n",
       "      <th>2</th>\n",
       "      <td>3</td>\n",
       "      <td>50</td>\n",
       "      <td>Male</td>\n",
       "      <td>Jeans</td>\n",
       "      <td>Clothing</td>\n",
       "      <td>73</td>\n",
       "      <td>Massachusetts</td>\n",
       "      <td>S</td>\n",
       "      <td>Maroon</td>\n",
       "      <td>Spring</td>\n",
       "      <td>3.1</td>\n",
       "      <td>Yes</td>\n",
       "      <td>Free Shipping</td>\n",
       "      <td>Yes</td>\n",
       "      <td>Yes</td>\n",
       "      <td>23</td>\n",
       "      <td>Credit Card</td>\n",
       "      <td>Weekly</td>\n",
       "    </tr>\n",
       "    <tr>\n",
       "      <th>3</th>\n",
       "      <td>4</td>\n",
       "      <td>21</td>\n",
       "      <td>Male</td>\n",
       "      <td>Sandals</td>\n",
       "      <td>Footwear</td>\n",
       "      <td>90</td>\n",
       "      <td>Rhode Island</td>\n",
       "      <td>M</td>\n",
       "      <td>Maroon</td>\n",
       "      <td>Spring</td>\n",
       "      <td>3.5</td>\n",
       "      <td>Yes</td>\n",
       "      <td>Next Day Air</td>\n",
       "      <td>Yes</td>\n",
       "      <td>Yes</td>\n",
       "      <td>49</td>\n",
       "      <td>PayPal</td>\n",
       "      <td>Weekly</td>\n",
       "    </tr>\n",
       "    <tr>\n",
       "      <th>4</th>\n",
       "      <td>5</td>\n",
       "      <td>45</td>\n",
       "      <td>Male</td>\n",
       "      <td>Blouse</td>\n",
       "      <td>Clothing</td>\n",
       "      <td>49</td>\n",
       "      <td>Oregon</td>\n",
       "      <td>M</td>\n",
       "      <td>Turquoise</td>\n",
       "      <td>Spring</td>\n",
       "      <td>2.7</td>\n",
       "      <td>Yes</td>\n",
       "      <td>Free Shipping</td>\n",
       "      <td>Yes</td>\n",
       "      <td>Yes</td>\n",
       "      <td>31</td>\n",
       "      <td>PayPal</td>\n",
       "      <td>Annually</td>\n",
       "    </tr>\n",
       "  </tbody>\n",
       "</table>\n",
       "</div>"
      ],
      "text/plain": [
       "   Customer ID  Age Gender Item Purchased  Category  Purchase Amount (USD)  \\\n",
       "0            1   55   Male         Blouse  Clothing                     53   \n",
       "1            2   19   Male        Sweater  Clothing                     64   \n",
       "2            3   50   Male          Jeans  Clothing                     73   \n",
       "3            4   21   Male        Sandals  Footwear                     90   \n",
       "4            5   45   Male         Blouse  Clothing                     49   \n",
       "\n",
       "        Location Size      Color  Season  Review Rating Subscription Status  \\\n",
       "0       Kentucky    L       Gray  Winter            3.1                 Yes   \n",
       "1          Maine    L     Maroon  Winter            3.1                 Yes   \n",
       "2  Massachusetts    S     Maroon  Spring            3.1                 Yes   \n",
       "3   Rhode Island    M     Maroon  Spring            3.5                 Yes   \n",
       "4         Oregon    M  Turquoise  Spring            2.7                 Yes   \n",
       "\n",
       "   Shipping Type Discount Applied Promo Code Used  Previous Purchases  \\\n",
       "0        Express              Yes             Yes                  14   \n",
       "1        Express              Yes             Yes                   2   \n",
       "2  Free Shipping              Yes             Yes                  23   \n",
       "3   Next Day Air              Yes             Yes                  49   \n",
       "4  Free Shipping              Yes             Yes                  31   \n",
       "\n",
       "  Payment Method Frequency of Purchases  \n",
       "0          Venmo            Fortnightly  \n",
       "1           Cash            Fortnightly  \n",
       "2    Credit Card                 Weekly  \n",
       "3         PayPal                 Weekly  \n",
       "4         PayPal               Annually  "
      ]
     },
     "execution_count": 3,
     "metadata": {},
     "output_type": "execute_result"
    }
   ],
   "source": [
    "df_shopping_behavior.head()"
   ]
  },
  {
   "cell_type": "code",
   "execution_count": 7,
   "metadata": {},
   "outputs": [
    {
     "data": {
      "text/plain": [
       "[<matplotlib.lines.Line2D at 0x1fa29d07ed0>]"
      ]
     },
     "execution_count": 7,
     "metadata": {},
     "output_type": "execute_result"
    },
    {
     "data": {
      "image/png": "[encoded data removed]",
      "text/plain": [
       "<Figure size 640x480 with 1 Axes>"
      ]
     },
     "metadata": {},
     "output_type": "display_data"
    }
   ],
   "source": [
    "x=np.linspace(0,2*np.pi,100)\n",
    "y=np.sin(x)\n",
    "plt.plot(x,y)"
   ]
  },
  {
   "cell_type": "code",
   "execution_count": 21,
   "metadata": {},
   "outputs": [
    {
     "name": "stdout",
     "output_type": "stream",
     "text": [
      "<class 'pandas.core.frame.DataFrame'>\n",
      "RangeIndex: 2163 entries, 0 to 2162\n",
      "Data columns (total 2 columns):\n",
      " #   Column     Non-Null Count  Dtype  \n",
      "---  ------     --------------  -----  \n",
      " 0   TimeStamp  2163 non-null   int64  \n",
      " 1   Price      2163 non-null   float64\n",
      "dtypes: float64(1), int64(1)\n",
      "memory usage: 33.9 KB\n"
     ]
    }
   ],
   "source": [
    "from pycoingecko import CoinGeckoAPI\n",
    "cg=CoinGeckoAPI()\n",
    "bitcoin_data = cg.get_coin_market_chart_by_id(id=\"bitcoin\",vs_currency=\"usd\",days=90) \n",
    "bitcoin_price=bitcoin_data[\"prices\"]\n",
    "df_bitcoin = pd.DataFrame(bitcoin_price,columns=[\"TimeStamp\",\"Price\"])\n",
    "df_bitcoin.info()\n"
   ]
  },
  {
   "cell_type": "code",
   "execution_count": 22,
   "metadata": {},
   "outputs": [
    {
     "data": {
      "text/html": [
       "<div>\n",
       "<style scoped>\n",
       "    .dataframe tbody tr th:only-of-type {\n",
       "        vertical-align: middle;\n",
       "    }\n",
       "\n",
       "    .dataframe tbody tr th {\n",
       "        vertical-align: top;\n",
       "    }\n",
       "\n",
       "    .dataframe thead th {\n",
       "        text-align: right;\n",
       "    }\n",
       "</style>\n",
       "<table border=\"1\" class=\"dataframe\">\n",
       "  <thead>\n",
       "    <tr style=\"text-align: right;\">\n",
       "      <th></th>\n",
       "      <th>TimeStamp</th>\n",
       "      <th>Price</th>\n",
       "    </tr>\n",
       "  </thead>\n",
       "  <tbody>\n",
       "    <tr>\n",
       "      <th>0</th>\n",
       "      <td>2023-08-03 18:01:16.622</td>\n",
       "      <td>29215.037696</td>\n",
       "    </tr>\n",
       "    <tr>\n",
       "      <th>1</th>\n",
       "      <td>2023-08-03 19:01:06.073</td>\n",
       "      <td>29245.262235</td>\n",
       "    </tr>\n",
       "    <tr>\n",
       "      <th>2</th>\n",
       "      <td>2023-08-03 20:00:07.402</td>\n",
       "      <td>29258.097802</td>\n",
       "    </tr>\n",
       "    <tr>\n",
       "      <th>3</th>\n",
       "      <td>2023-08-03 21:00:33.185</td>\n",
       "      <td>29289.158250</td>\n",
       "    </tr>\n",
       "    <tr>\n",
       "      <th>4</th>\n",
       "      <td>2023-08-03 22:01:18.088</td>\n",
       "      <td>29228.811309</td>\n",
       "    </tr>\n",
       "    <tr>\n",
       "      <th>...</th>\n",
       "      <td>...</td>\n",
       "      <td>...</td>\n",
       "    </tr>\n",
       "    <tr>\n",
       "      <th>2158</th>\n",
       "      <td>2023-11-01 14:00:52.041</td>\n",
       "      <td>34499.464375</td>\n",
       "    </tr>\n",
       "    <tr>\n",
       "      <th>2159</th>\n",
       "      <td>2023-11-01 15:00:38.665</td>\n",
       "      <td>34268.536157</td>\n",
       "    </tr>\n",
       "    <tr>\n",
       "      <th>2160</th>\n",
       "      <td>2023-11-01 16:00:09.327</td>\n",
       "      <td>34254.653925</td>\n",
       "    </tr>\n",
       "    <tr>\n",
       "      <th>2161</th>\n",
       "      <td>2023-11-01 17:00:21.985</td>\n",
       "      <td>34446.447221</td>\n",
       "    </tr>\n",
       "    <tr>\n",
       "      <th>2162</th>\n",
       "      <td>2023-11-01 17:20:52.000</td>\n",
       "      <td>34483.599199</td>\n",
       "    </tr>\n",
       "  </tbody>\n",
       "</table>\n",
       "<p>2163 rows × 2 columns</p>\n",
       "</div>"
      ],
      "text/plain": [
       "                   TimeStamp         Price\n",
       "0    2023-08-03 18:01:16.622  29215.037696\n",
       "1    2023-08-03 19:01:06.073  29245.262235\n",
       "2    2023-08-03 20:00:07.402  29258.097802\n",
       "3    2023-08-03 21:00:33.185  29289.158250\n",
       "4    2023-08-03 22:01:18.088  29228.811309\n",
       "...                      ...           ...\n",
       "2158 2023-11-01 14:00:52.041  34499.464375\n",
       "2159 2023-11-01 15:00:38.665  34268.536157\n",
       "2160 2023-11-01 16:00:09.327  34254.653925\n",
       "2161 2023-11-01 17:00:21.985  34446.447221\n",
       "2162 2023-11-01 17:20:52.000  34483.599199\n",
       "\n",
       "[2163 rows x 2 columns]"
      ]
     },
     "execution_count": 22,
     "metadata": {},
     "output_type": "execute_result"
    }
   ],
   "source": [
    "df_bitcoin[\"TimeStamp\"]=pd.to_datetime(df_bitcoin[\"TimeStamp\"],unit=\"ms\")\n",
    "df_bitcoin"
   ]
  },
  {
   "cell_type": "code",
   "execution_count": 23,
   "metadata": {},
   "outputs": [
    {
     "data": {
      "text/html": [
       "<div>\n",
       "<style scoped>\n",
       "    .dataframe tbody tr th:only-of-type {\n",
       "        vertical-align: middle;\n",
       "    }\n",
       "\n",
       "    .dataframe tbody tr th {\n",
       "        vertical-align: top;\n",
       "    }\n",
       "\n",
       "    .dataframe thead th {\n",
       "        text-align: right;\n",
       "    }\n",
       "</style>\n",
       "<table border=\"1\" class=\"dataframe\">\n",
       "  <thead>\n",
       "    <tr style=\"text-align: right;\">\n",
       "      <th></th>\n",
       "      <th>TimeStamp</th>\n",
       "      <th>Price</th>\n",
       "      <th>market caps</th>\n",
       "    </tr>\n",
       "  </thead>\n",
       "  <tbody>\n",
       "    <tr>\n",
       "      <th>0</th>\n",
       "      <td>2023-08-03 18:01:16.622</td>\n",
       "      <td>29215.037696</td>\n",
       "      <td>5.681434e+11</td>\n",
       "    </tr>\n",
       "    <tr>\n",
       "      <th>1</th>\n",
       "      <td>2023-08-03 19:01:06.073</td>\n",
       "      <td>29245.262235</td>\n",
       "      <td>5.680652e+11</td>\n",
       "    </tr>\n",
       "    <tr>\n",
       "      <th>2</th>\n",
       "      <td>2023-08-03 20:00:07.402</td>\n",
       "      <td>29258.097802</td>\n",
       "      <td>5.689366e+11</td>\n",
       "    </tr>\n",
       "    <tr>\n",
       "      <th>3</th>\n",
       "      <td>2023-08-03 21:00:33.185</td>\n",
       "      <td>29289.158250</td>\n",
       "      <td>5.692385e+11</td>\n",
       "    </tr>\n",
       "    <tr>\n",
       "      <th>4</th>\n",
       "      <td>2023-08-03 22:01:18.088</td>\n",
       "      <td>29228.811309</td>\n",
       "      <td>5.684207e+11</td>\n",
       "    </tr>\n",
       "  </tbody>\n",
       "</table>\n",
       "</div>"
      ],
      "text/plain": [
       "                TimeStamp         Price   market caps\n",
       "0 2023-08-03 18:01:16.622  29215.037696  5.681434e+11\n",
       "1 2023-08-03 19:01:06.073  29245.262235  5.680652e+11\n",
       "2 2023-08-03 20:00:07.402  29258.097802  5.689366e+11\n",
       "3 2023-08-03 21:00:33.185  29289.158250  5.692385e+11\n",
       "4 2023-08-03 22:01:18.088  29228.811309  5.684207e+11"
      ]
     },
     "execution_count": 23,
     "metadata": {},
     "output_type": "execute_result"
    }
   ],
   "source": [
    "bitcoin_MC=bitcoin_data[\"market_caps\"]\n",
    "df_bitcoin_MC = pd.DataFrame(bitcoin_MC,columns=[\"TimeStamp\",\"market caps\"])\n",
    "df_bitcoin[\"market caps\"]=df_bitcoin_MC[\"market caps\"]\n",
    "df_bitcoin.head()\n",
    "#{\"\":float,\"market_caps\":float,\"total_volumes\":float})"
   ]
  },
  {
   "cell_type": "code",
   "execution_count": 24,
   "metadata": {},
   "outputs": [
    {
     "data": {
      "text/html": [
       "<div>\n",
       "<style scoped>\n",
       "    .dataframe tbody tr th:only-of-type {\n",
       "        vertical-align: middle;\n",
       "    }\n",
       "\n",
       "    .dataframe tbody tr th {\n",
       "        vertical-align: top;\n",
       "    }\n",
       "\n",
       "    .dataframe thead th {\n",
       "        text-align: right;\n",
       "    }\n",
       "</style>\n",
       "<table border=\"1\" class=\"dataframe\">\n",
       "  <thead>\n",
       "    <tr style=\"text-align: right;\">\n",
       "      <th></th>\n",
       "      <th>TimeStamp</th>\n",
       "      <th>Price</th>\n",
       "      <th>market caps</th>\n",
       "      <th>total_volumes</th>\n",
       "    </tr>\n",
       "  </thead>\n",
       "  <tbody>\n",
       "    <tr>\n",
       "      <th>0</th>\n",
       "      <td>2023-08-03 18:01:16.622</td>\n",
       "      <td>29215.037696</td>\n",
       "      <td>5.681434e+11</td>\n",
       "      <td>1.174983e+10</td>\n",
       "    </tr>\n",
       "    <tr>\n",
       "      <th>1</th>\n",
       "      <td>2023-08-03 19:01:06.073</td>\n",
       "      <td>29245.262235</td>\n",
       "      <td>5.680652e+11</td>\n",
       "      <td>1.247411e+10</td>\n",
       "    </tr>\n",
       "    <tr>\n",
       "      <th>2</th>\n",
       "      <td>2023-08-03 20:00:07.402</td>\n",
       "      <td>29258.097802</td>\n",
       "      <td>5.689366e+11</td>\n",
       "      <td>1.009179e+10</td>\n",
       "    </tr>\n",
       "    <tr>\n",
       "      <th>3</th>\n",
       "      <td>2023-08-03 21:00:33.185</td>\n",
       "      <td>29289.158250</td>\n",
       "      <td>5.692385e+11</td>\n",
       "      <td>1.176784e+10</td>\n",
       "    </tr>\n",
       "    <tr>\n",
       "      <th>4</th>\n",
       "      <td>2023-08-03 22:01:18.088</td>\n",
       "      <td>29228.811309</td>\n",
       "      <td>5.684207e+11</td>\n",
       "      <td>1.248243e+10</td>\n",
       "    </tr>\n",
       "  </tbody>\n",
       "</table>\n",
       "</div>"
      ],
      "text/plain": [
       "                TimeStamp         Price   market caps  total_volumes\n",
       "0 2023-08-03 18:01:16.622  29215.037696  5.681434e+11   1.174983e+10\n",
       "1 2023-08-03 19:01:06.073  29245.262235  5.680652e+11   1.247411e+10\n",
       "2 2023-08-03 20:00:07.402  29258.097802  5.689366e+11   1.009179e+10\n",
       "3 2023-08-03 21:00:33.185  29289.158250  5.692385e+11   1.176784e+10\n",
       "4 2023-08-03 22:01:18.088  29228.811309  5.684207e+11   1.248243e+10"
      ]
     },
     "execution_count": 24,
     "metadata": {},
     "output_type": "execute_result"
    }
   ],
   "source": [
    "bitcoin_TV=bitcoin_data[\"total_volumes\"]\n",
    "df_bitcoin_TV = pd.DataFrame(bitcoin_TV,columns=[\"TimeStamp\",\"total_volumes\"])\n",
    "df_bitcoin[\"total_volumes\"]=df_bitcoin_TV[\"total_volumes\"]\n",
    "df_bitcoin.head()"
   ]
  },
  {
   "cell_type": "code",
   "execution_count": 25,
   "metadata": {},
   "outputs": [
    {
     "data": {
      "text/html": [
       "<div>\n",
       "<style scoped>\n",
       "    .dataframe tbody tr th:only-of-type {\n",
       "        vertical-align: middle;\n",
       "    }\n",
       "\n",
       "    .dataframe tbody tr th {\n",
       "        vertical-align: top;\n",
       "    }\n",
       "\n",
       "    .dataframe thead tr th {\n",
       "        text-align: left;\n",
       "    }\n",
       "\n",
       "    .dataframe thead tr:last-of-type th {\n",
       "        text-align: right;\n",
       "    }\n",
       "</style>\n",
       "<table border=\"1\" class=\"dataframe\">\n",
       "  <thead>\n",
       "    <tr>\n",
       "      <th></th>\n",
       "      <th colspan=\"4\" halign=\"left\">Price</th>\n",
       "    </tr>\n",
       "    <tr>\n",
       "      <th></th>\n",
       "      <th>min</th>\n",
       "      <th>max</th>\n",
       "      <th>first</th>\n",
       "      <th>last</th>\n",
       "    </tr>\n",
       "    <tr>\n",
       "      <th>TimeStamp</th>\n",
       "      <th></th>\n",
       "      <th></th>\n",
       "      <th></th>\n",
       "      <th></th>\n",
       "    </tr>\n",
       "  </thead>\n",
       "  <tbody>\n",
       "    <tr>\n",
       "      <th>2023-08-03</th>\n",
       "      <td>29215.037696</td>\n",
       "      <td>29289.158250</td>\n",
       "      <td>29215.037696</td>\n",
       "      <td>29220.722582</td>\n",
       "    </tr>\n",
       "    <tr>\n",
       "      <th>2023-08-04</th>\n",
       "      <td>28942.929633</td>\n",
       "      <td>29255.678711</td>\n",
       "      <td>29172.607612</td>\n",
       "      <td>29031.835835</td>\n",
       "    </tr>\n",
       "    <tr>\n",
       "      <th>2023-08-05</th>\n",
       "      <td>28975.305653</td>\n",
       "      <td>29084.135770</td>\n",
       "      <td>29080.301697</td>\n",
       "      <td>29056.161769</td>\n",
       "    </tr>\n",
       "    <tr>\n",
       "      <th>2023-08-06</th>\n",
       "      <td>28978.415399</td>\n",
       "      <td>29083.604182</td>\n",
       "      <td>29046.800457</td>\n",
       "      <td>29047.048717</td>\n",
       "    </tr>\n",
       "    <tr>\n",
       "      <th>2023-08-07</th>\n",
       "      <td>28803.773430</td>\n",
       "      <td>29177.023896</td>\n",
       "      <td>29044.204376</td>\n",
       "      <td>29148.426462</td>\n",
       "    </tr>\n",
       "  </tbody>\n",
       "</table>\n",
       "</div>"
      ],
      "text/plain": [
       "                   Price                                          \n",
       "                     min           max         first          last\n",
       "TimeStamp                                                         \n",
       "2023-08-03  29215.037696  29289.158250  29215.037696  29220.722582\n",
       "2023-08-04  28942.929633  29255.678711  29172.607612  29031.835835\n",
       "2023-08-05  28975.305653  29084.135770  29080.301697  29056.161769\n",
       "2023-08-06  28978.415399  29083.604182  29046.800457  29047.048717\n",
       "2023-08-07  28803.773430  29177.023896  29044.204376  29148.426462"
      ]
     },
     "execution_count": 25,
     "metadata": {},
     "output_type": "execute_result"
    }
   ],
   "source": [
    "candlestick_data=df_bitcoin.groupby(df_bitcoin.TimeStamp.dt.date).agg({\"Price\":[\"min\",\"max\",\"first\",\"last\"]})\n",
    "candlestick_data.head()"
   ]
  },
  {
   "cell_type": "code",
   "execution_count": 28,
   "metadata": {},
   "outputs": [
    {
     "data": {
      "application/vnd.plotly.v1+json": {
       "config": {
        "plotlyServerURL": "https://plot.ly"
       },
       "data": [
        {
         "close": [
          29220.722581707367,
          29031.83583532943,
          29056.16176947457,
          29047.04871719228,
          29148.426461513198,
          29744.85827849708,
          29550.69546858824,
          29445.98109207198,
          29417.472421546296,
          29409.321256349733,
          29289.373911687195,
          29424.760257159633,
          29156.079385583038,
          28898.88614314395,
          26519.482127617655,
          26065.719310346696,
          26048.878765836904,
          26219.852156860186,
          26139.90184913791,
          25798.38138085542,
          26442.26484833214,
          26099.95400758799,
          26037.45196492003,
          26015.129877063653,
          26075.02349234685,
          26023.061810715473,
          27642.983915634417,
          27250.84045367146,
          26011.40473601613,
          25789.78984311876,
          25859.36428638706,
          25948.197964470794,
          25749.106735136127,
          25753.95929850106,
          25725.087827734977,
          26387.74791739874,
          25905.63785593694,
          25900.10190570366,
          25857.257728995824,
          25140.138898899415,
          25979.21538462445,
          26234.18982796697,
          26615.532123428224,
          26792.60882462043,
          26566.033844441456,
          26468.617801591503,
          26867.0605755984,
          27200.83584839815,
          27110.600552890646,
          26589.232106802505,
          26582.589416632578,
          26575.52911690974,
          26503.235602590674,
          26287.076366997982,
          26151.495531909033,
          26288.209341200014,
          27013.05810967051,
          26896.650032793077,
          27007.09435594733,
          27958.086080312773,
          27548.852018252153,
          27317.95783922375,
          27749.3591623358,
          27467.11281497509,
          28015.369152584746,
          27974.7571037059,
          27919.889110632826,
          27600.1025698656,
          27453.037553654438,
          26782.107677394106,
          26741.573640176197,
          26811.460759785718,
          26851.366155439206,
          27128.978144491553,
          28515.420222673423,
          28400.423999371484,
          28348.72475198672,
          28667.75098162602,
          29656.162130353616,
          30018.49610114377,
          29990.24756414851,
          33264.32768202586,
          34080.896772114276,
          34579.238189685086,
          34249.251206485445,
          33816.06934849948,
          34113.21446355799,
          34726.40365909276,
          34491.04715056969,
          34600.234530905356,
          34483.59919879226
         ],
         "high": [
          29289.158250324508,
          29255.678710525015,
          29084.13576958708,
          29083.604181543047,
          29177.023895545026,
          29976.211985762355,
          30001.634376903236,
          29618.51267461011,
          29467.005271752892,
          29443.689753570554,
          29437.750173303444,
          29652.92121472772,
          29400.58680419105,
          29204.492957038772,
          28704.201699088244,
          26668.805540459027,
          26151.759853112697,
          26219.852156860186,
          26206.036112249363,
          26119.005958595222,
          26641.120068058513,
          26507.185074035457,
          26141.325677974113,
          26078.307413208233,
          26145.13700493861,
          26138.837727532824,
          27974.418744529936,
          27730.50373550554,
          27357.39988619997,
          26079.22308095293,
          25898.432073032756,
          26054.793419062265,
          25998.296229842043,
          25829.364772941324,
          25835.942668563916,
          26387.74791739874,
          26355.95434081812,
          25907.292127847395,
          25889.67163888094,
          25836.14289431529,
          26288.334884466993,
          26304.01546518303,
          26751.79664567292,
          26792.60882462043,
          26704.25388242849,
          26605.36747233914,
          27394.588104693972,
          27289.4248902988,
          27318.242557709546,
          27115.846446970816,
          26688.33796153136,
          26615.098925655053,
          26657.753582685626,
          26357.55015326377,
          26347.306498337617,
          26805.628892226956,
          27146.515346023432,
          27151.16450461917,
          27075.965613822682,
          27958.086080312773,
          28493.813745265812,
          27665.63327626977,
          27749.3591623358,
          28002.696815579708,
          28141.091408717115,
          28019.428794289277,
          28088.344154516606,
          27984.53805572639,
          27710.146587078358,
          27461.472926157647,
          26900.51950068074,
          27013.47907381674,
          26923.38432031609,
          27196.298592542582,
          28535.955587851917,
          28576.711914963784,
          28767.30051705669,
          28819.438174975017,
          29902.333349112665,
          30191.974890550126,
          30130.605421637614,
          33264.32768202586,
          34606.40663867492,
          34977.14917229203,
          34799.81951265261,
          34214.93736870389,
          34227.92376720186,
          34763.44622176207,
          34679.85957555487,
          34640.077352659755,
          34789.98287468904
         ],
         "low": [
          29215.037695810468,
          28942.92963349416,
          28975.30565274574,
          28978.415398708043,
          28803.77343032207,
          29123.54199759313,
          29457.9853220358,
          29399.67513466476,
          29308.31152705311,
          29365.862257615267,
          29289.373911687195,
          29212.175015668716,
          29144.072559316835,
          28898.88614314395,
          26226.26269109041,
          26023.767243664788,
          25847.295854807628,
          26031.129626270158,
          25929.42052057213,
          25670.789710355362,
          25872.6968761395,
          25999.028648457854,
          25836.021432995323,
          26002.51040088705,
          25986.93362954747,
          25906.617275936336,
          25960.814259657403,
          27119.168598219276,
          25991.00615533169,
          25461.332422814383,
          25764.43533909715,
          25836.905638144235,
          25659.620573078173,
          25652.30731623389,
          25576.564268541297,
          25647.715450955635,
          25764.72345705586,
          25813.384607397376,
          25682.08207006774,
          25023.24918499984,
          25133.303106566527,
          25843.107804557887,
          26193.031945995655,
          26251.615685201057,
          26471.09371981062,
          26462.58323203275,
          26456.81769925053,
          26682.841448803098,
          26936.571052710085,
          26418.52778477277,
          26534.177936540287,
          26536.561163334205,
          26447.45930249158,
          26059.043074839537,
          26111.574712349553,
          26166.382102431195,
          26344.99309446877,
          26836.0656620818,
          26895.989846752356,
          26969.876144072576,
          27401.389272685337,
          27265.62463094056,
          27320.072509867994,
          27441.098459102155,
          27243.358912167776,
          27876.74105849813,
          27831.66156449875,
          27354.09084225846,
          27303.143762531436,
          26634.191751329097,
          26621.40736495772,
          26696.78538766366,
          26825.747941177448,
          26834.38567433503,
          27150.29700140705,
          28158.686776258488,
          28206.323566697505,
          28203.668818077025,
          28652.641226876258,
          29493.129341677413,
          29795.80438453275,
          30019.38050086351,
          32953.262760830985,
          33832.05989098268,
          33770.84081549448,
          33610.02693718559,
          33899.09305644032,
          33982.87227589427,
          34220.29127788138,
          34163.155409460735,
          34254.65392526724
         ],
         "open": [
          29215.037695810468,
          29172.607611740656,
          29080.301697276253,
          29046.800457023197,
          29044.204375577556,
          29178.147751873083,
          29779.56167125089,
          29585.48807737921,
          29423.81891597763,
          29396.8479714205,
          29414.278682418666,
          29284.96971374381,
          29400.58680419105,
          29164.115145973017,
          28704.201699088244,
          26646.454475827253,
          26047.85226532431,
          26104.778630797897,
          26160.700419818215,
          26119.005958595222,
          26033.675406585844,
          26425.54459030144,
          26137.987984091673,
          26044.036209289134,
          26002.015717319366,
          26082.717178218525,
          26109.693155388202,
          27730.50373550554,
          27303.35348313254,
          25927.417005779287,
          25812.33049442542,
          25853.65684277757,
          25959.596311463454,
          25829.364772941324,
          25770.129054916044,
          25752.958418589413,
          26192.333433090567,
          25907.228137249735,
          25889.67163888094,
          25834.8856281802,
          25133.303106566527,
          25850.322299629544,
          26222.013303986474,
          26531.39556626326,
          26610.403126161622,
          26557.768691994646,
          26520.988254783886,
          26741.461110948952,
          27213.18465907596,
          27115.846446970816,
          26561.133454198716,
          26581.967576018324,
          26573.9234797301,
          26257.58376993293,
          26296.92231737691,
          26204.75759083597,
          26350.146895428057,
          27009.01375072488,
          26917.199101637976,
          26969.876144072576,
          27967.510579087113,
          27615.06488509527,
          27426.281146181223,
          27792.1112772493,
          27435.874615135104,
          27958.196437350485,
          27977.543490700005,
          27948.10365174851,
          27593.782534439666,
          27392.247702732497,
          26878.332841551837,
          26729.137205815106,
          26860.56354897653,
          26863.183569079916,
          27150.29700140705,
          28525.033408335068,
          28417.72175169982,
          28328.245198134824,
          28715.748142407952,
          29677.392888476206,
          29920.07449265145,
          30019.38050086351,
          32953.262760830985,
          33846.72425733224,
          34498.18414928194,
          34174.451552912586,
          33899.09305644032,
          34092.630932838576,
          34524.94714831651,
          34494.37986890222,
          34672.2892841885
         ],
         "type": "candlestick",
         "x": [
          "2023-08-03",
          "2023-08-04",
          "2023-08-05",
          "2023-08-06",
          "2023-08-07",
          "2023-08-08",
          "2023-08-09",
          "2023-08-10",
          "2023-08-11",
          "2023-08-12",
          "2023-08-13",
          "2023-08-14",
          "2023-08-15",
          "2023-08-16",
          "2023-08-17",
          "2023-08-18",
          "2023-08-19",
          "2023-08-20",
          "2023-08-21",
          "2023-08-22",
          "2023-08-23",
          "2023-08-24",
          "2023-08-25",
          "2023-08-26",
          "2023-08-27",
          "2023-08-28",
          "2023-08-29",
          "2023-08-30",
          "2023-08-31",
          "2023-09-01",
          "2023-09-02",
          "2023-09-03",
          "2023-09-04",
          "2023-09-05",
          "2023-09-06",
          "2023-09-07",
          "2023-09-08",
          "2023-09-09",
          "2023-09-10",
          "2023-09-11",
          "2023-09-12",
          "2023-09-13",
          "2023-09-14",
          "2023-09-15",
          "2023-09-16",
          "2023-09-17",
          "2023-09-18",
          "2023-09-19",
          "2023-09-20",
          "2023-09-21",
          "2023-09-22",
          "2023-09-23",
          "2023-09-24",
          "2023-09-25",
          "2023-09-26",
          "2023-09-27",
          "2023-09-28",
          "2023-09-29",
          "2023-09-30",
          "2023-10-01",
          "2023-10-02",
          "2023-10-03",
          "2023-10-04",
          "2023-10-05",
          "2023-10-06",
          "2023-10-07",
          "2023-10-08",
          "2023-10-09",
          "2023-10-10",
          "2023-10-11",
          "2023-10-12",
          "2023-10-13",
          "2023-10-14",
          "2023-10-15",
          "2023-10-16",
          "2023-10-17",
          "2023-10-18",
          "2023-10-19",
          "2023-10-20",
          "2023-10-21",
          "2023-10-22",
          "2023-10-23",
          "2023-10-24",
          "2023-10-25",
          "2023-10-26",
          "2023-10-27",
          "2023-10-28",
          "2023-10-29",
          "2023-10-30",
          "2023-10-31",
          "2023-11-01"
         ]
        }
       ],
       "layout": {
        "template": {
         "data": {
          "bar": [
           {
            "error_x": {
             "color": "#2a3f5f"
            },
            "error_y": {
             "color": "#2a3f5f"
            },
            "marker": {
             "line": {
              "color": "#E5ECF6",
              "width": 0.5
             },
             "pattern": {
              "fillmode": "overlay",
              "size": 10,
              "solidity": 0.2
             }
            },
            "type": "bar"
           }
          ],
          "barpolar": [
           {
            "marker": {
             "line": {
              "color": "#E5ECF6",
              "width": 0.5
             },
             "pattern": {
              "fillmode": "overlay",
              "size": 10,
              "solidity": 0.2
             }
            },
            "type": "barpolar"
           }
          ],
          "carpet": [
           {
            "aaxis": {
             "endlinecolor": "#2a3f5f",
             "gridcolor": "white",
             "linecolor": "white",
             "minorgridcolor": "white",
             "startlinecolor": "#2a3f5f"
            },
            "baxis": {
             "endlinecolor": "#2a3f5f",
             "gridcolor": "white",
             "linecolor": "white",
             "minorgridcolor": "white",
             "startlinecolor": "#2a3f5f"
            },
            "type": "carpet"
           }
          ],
          "choropleth": [
           {
            "colorbar": {
             "outlinewidth": 0,
             "ticks": ""
            },
            "type": "choropleth"
           }
          ],
          "contour": [
           {
            "colorbar": {
             "outlinewidth": 0,
             "ticks": ""
            },
            "colorscale": [
             [
              0,
              "#0d0887"
             ],
             [
              0.1111111111111111,
              "#46039f"
             ],
             [
              0.2222222222222222,
              "#7201a8"
             ],
             [
              0.3333333333333333,
              "#9c179e"
             ],
             [
              0.4444444444444444,
              "#bd3786"
             ],
             [
              0.5555555555555556,
              "#d8576b"
             ],
             [
              0.6666666666666666,
              "#ed7953"
             ],
             [
              0.7777777777777778,
              "#fb9f3a"
             ],
             [
              0.8888888888888888,
              "#fdca26"
             ],
             [
              1,
              "#f0f921"
             ]
            ],
            "type": "contour"
           }
          ],
          "contourcarpet": [
           {
            "colorbar": {
             "outlinewidth": 0,
             "ticks": ""
            },
            "type": "contourcarpet"
           }
          ],
          "heatmap": [
           {
            "colorbar": {
             "outlinewidth": 0,
             "ticks": ""
            },
            "colorscale": [
             [
              0,
              "#0d0887"
             ],
             [
              0.1111111111111111,
              "#46039f"
             ],
             [
              0.2222222222222222,
              "#7201a8"
             ],
             [
              0.3333333333333333,
              "#9c179e"
             ],
             [
              0.4444444444444444,
              "#bd3786"
             ],
             [
              0.5555555555555556,
              "#d8576b"
             ],
             [
              0.6666666666666666,
              "#ed7953"
             ],
             [
              0.7777777777777778,
              "#fb9f3a"
             ],
             [
              0.8888888888888888,
              "#fdca26"
             ],
             [
              1,
              "#f0f921"
             ]
            ],
            "type": "heatmap"
           }
          ],
          "heatmapgl": [
           {
            "colorbar": {
             "outlinewidth": 0,
             "ticks": ""
            },
            "colorscale": [
             [
              0,
              "#0d0887"
             ],
             [
              0.1111111111111111,
              "#46039f"
             ],
             [
              0.2222222222222222,
              "#7201a8"
             ],
             [
              0.3333333333333333,
              "#9c179e"
             ],
             [
              0.4444444444444444,
              "#bd3786"
             ],
             [
              0.5555555555555556,
              "#d8576b"
             ],
             [
              0.6666666666666666,
              "#ed7953"
             ],
             [
              0.7777777777777778,
              "#fb9f3a"
             ],
             [
              0.8888888888888888,
              "#fdca26"
             ],
             [
              1,
              "#f0f921"
             ]
            ],
            "type": "heatmapgl"
           }
          ],
          "histogram": [
           {
            "marker": {
             "pattern": {
              "fillmode": "overlay",
              "size": 10,
              "solidity": 0.2
             }
            },
            "type": "histogram"
           }
          ],
          "histogram2d": [
           {
            "colorbar": {
             "outlinewidth": 0,
             "ticks": ""
            },
            "colorscale": [
             [
              0,
              "#0d0887"
             ],
             [
              0.1111111111111111,
              "#46039f"
             ],
             [
              0.2222222222222222,
              "#7201a8"
             ],
             [
              0.3333333333333333,
              "#9c179e"
             ],
             [
              0.4444444444444444,
              "#bd3786"
             ],
             [
              0.5555555555555556,
              "#d8576b"
             ],
             [
              0.6666666666666666,
              "#ed7953"
             ],
             [
              0.7777777777777778,
              "#fb9f3a"
             ],
             [
              0.8888888888888888,
              "#fdca26"
             ],
             [
              1,
              "#f0f921"
             ]
            ],
            "type": "histogram2d"
           }
          ],
          "histogram2dcontour": [
           {
            "colorbar": {
             "outlinewidth": 0,
             "ticks": ""
            },
            "colorscale": [
             [
              0,
              "#0d0887"
             ],
             [
              0.1111111111111111,
              "#46039f"
             ],
             [
              0.2222222222222222,
              "#7201a8"
             ],
             [
              0.3333333333333333,
              "#9c179e"
             ],
             [
              0.4444444444444444,
              "#bd3786"
             ],
             [
              0.5555555555555556,
              "#d8576b"
             ],
             [
              0.6666666666666666,
              "#ed7953"
             ],
             [
              0.7777777777777778,
              "#fb9f3a"
             ],
             [
              0.8888888888888888,
              "#fdca26"
             ],
             [
              1,
              "#f0f921"
             ]
            ],
            "type": "histogram2dcontour"
           }
          ],
          "mesh3d": [
           {
            "colorbar": {
             "outlinewidth": 0,
             "ticks": ""
            },
            "type": "mesh3d"
           }
          ],
          "parcoords": [
           {
            "line": {
             "colorbar": {
              "outlinewidth": 0,
              "ticks": ""
             }
            },
            "type": "parcoords"
           }
          ],
          "pie": [
           {
            "automargin": true,
            "type": "pie"
           }
          ],
          "scatter": [
           {
            "fillpattern": {
             "fillmode": "overlay",
             "size": 10,
             "solidity": 0.2
            },
            "type": "scatter"
           }
          ],
          "scatter3d": [
           {
            "line": {
             "colorbar": {
              "outlinewidth": 0,
              "ticks": ""
             }
            },
            "marker": {
             "colorbar": {
              "outlinewidth": 0,
              "ticks": ""
             }
            },
            "type": "scatter3d"
           }
          ],
          "scattercarpet": [
           {
            "marker": {
             "colorbar": {
              "outlinewidth": 0,
              "ticks": ""
             }
            },
            "type": "scattercarpet"
           }
          ],
          "scattergeo": [
           {
            "marker": {
             "colorbar": {
              "outlinewidth": 0,
              "ticks": ""
             }
            },
            "type": "scattergeo"
           }
          ],
          "scattergl": [
           {
            "marker": {
             "colorbar": {
              "outlinewidth": 0,
              "ticks": ""
             }
            },
            "type": "scattergl"
           }
          ],
          "scattermapbox": [
           {
            "marker": {
             "colorbar": {
              "outlinewidth": 0,
              "ticks": ""
             }
            },
            "type": "scattermapbox"
           }
          ],
          "scatterpolar": [
           {
            "marker": {
             "colorbar": {
              "outlinewidth": 0,
              "ticks": ""
             }
            },
            "type": "scatterpolar"
           }
          ],
          "scatterpolargl": [
           {
            "marker": {
             "colorbar": {
              "outlinewidth": 0,
              "ticks": ""
             }
            },
            "type": "scatterpolargl"
           }
          ],
          "scatterternary": [
           {
            "marker": {
             "colorbar": {
              "outlinewidth": 0,
              "ticks": ""
             }
            },
            "type": "scatterternary"
           }
          ],
          "surface": [
           {
            "colorbar": {
             "outlinewidth": 0,
             "ticks": ""
            },
            "colorscale": [
             [
              0,
              "#0d0887"
             ],
             [
              0.1111111111111111,
              "#46039f"
             ],
             [
              0.2222222222222222,
              "#7201a8"
             ],
             [
              0.3333333333333333,
              "#9c179e"
             ],
             [
              0.4444444444444444,
              "#bd3786"
             ],
             [
              0.5555555555555556,
              "#d8576b"
             ],
             [
              0.6666666666666666,
              "#ed7953"
             ],
             [
              0.7777777777777778,
              "#fb9f3a"
             ],
             [
              0.8888888888888888,
              "#fdca26"
             ],
             [
              1,
              "#f0f921"
             ]
            ],
            "type": "surface"
           }
          ],
          "table": [
           {
            "cells": {
             "fill": {
              "color": "#EBF0F8"
             },
             "line": {
              "color": "white"
             }
            },
            "header": {
             "fill": {
              "color": "#C8D4E3"
             },
             "line": {
              "color": "white"
             }
            },
            "type": "table"
           }
          ]
         },
         "layout": {
          "annotationdefaults": {
           "arrowcolor": "#2a3f5f",
           "arrowhead": 0,
           "arrowwidth": 1
          },
          "autotypenumbers": "strict",
          "coloraxis": {
           "colorbar": {
            "outlinewidth": 0,
            "ticks": ""
           }
          },
          "colorscale": {
           "diverging": [
            [
             0,
             "#8e0152"
            ],
            [
             0.1,
             "#c51b7d"
            ],
            [
             0.2,
             "#de77ae"
            ],
            [
             0.3,
             "#f1b6da"
            ],
            [
             0.4,
             "#fde0ef"
            ],
            [
             0.5,
             "#f7f7f7"
            ],
            [
             0.6,
             "#e6f5d0"
            ],
            [
             0.7,
             "#b8e186"
            ],
            [
             0.8,
             "#7fbc41"
            ],
            [
             0.9,
             "#4d9221"
            ],
            [
             1,
             "#276419"
            ]
           ],
           "sequential": [
            [
             0,
             "#0d0887"
            ],
            [
             0.1111111111111111,
             "#46039f"
            ],
            [
             0.2222222222222222,
             "#7201a8"
            ],
            [
             0.3333333333333333,
             "#9c179e"
            ],
            [
             0.4444444444444444,
             "#bd3786"
            ],
            [
             0.5555555555555556,
             "#d8576b"
            ],
            [
             0.6666666666666666,
             "#ed7953"
            ],
            [
             0.7777777777777778,
             "#fb9f3a"
            ],
            [
             0.8888888888888888,
             "#fdca26"
            ],
            [
             1,
             "#f0f921"
            ]
           ],
           "sequentialminus": [
            [
             0,
             "#0d0887"
            ],
            [
             0.1111111111111111,
             "#46039f"
            ],
            [
             0.2222222222222222,
             "#7201a8"
            ],
            [
             0.3333333333333333,
             "#9c179e"
            ],
            [
             0.4444444444444444,
             "#bd3786"
            ],
            [
             0.5555555555555556,
             "#d8576b"
            ],
            [
             0.6666666666666666,
             "#ed7953"
            ],
            [
             0.7777777777777778,
             "#fb9f3a"
            ],
            [
             0.8888888888888888,
             "#fdca26"
            ],
            [
             1,
             "#f0f921"
            ]
           ]
          },
          "colorway": [
           "#636efa",
           "#EF553B",
           "#00cc96",
           "#ab63fa",
           "#FFA15A",
           "#19d3f3",
           "#FF6692",
           "#B6E880",
           "#FF97FF",
           "#FECB52"
          ],
          "font": {
           "color": "#2a3f5f"
          },
          "geo": {
           "bgcolor": "white",
           "lakecolor": "white",
           "landcolor": "#E5ECF6",
           "showlakes": true,
           "showland": true,
           "subunitcolor": "white"
          },
          "hoverlabel": {
           "align": "left"
          },
          "hovermode": "closest",
          "mapbox": {
           "style": "light"
          },
          "paper_bgcolor": "white",
          "plot_bgcolor": "#E5ECF6",
          "polar": {
           "angularaxis": {
            "gridcolor": "white",
            "linecolor": "white",
            "ticks": ""
           },
           "bgcolor": "#E5ECF6",
           "radialaxis": {
            "gridcolor": "white",
            "linecolor": "white",
            "ticks": ""
           }
          },
          "scene": {
           "xaxis": {
            "backgroundcolor": "#E5ECF6",
            "gridcolor": "white",
            "gridwidth": 2,
            "linecolor": "white",
            "showbackground": true,
            "ticks": "",
            "zerolinecolor": "white"
           },
           "yaxis": {
            "backgroundcolor": "#E5ECF6",
            "gridcolor": "white",
            "gridwidth": 2,
            "linecolor": "white",
            "showbackground": true,
            "ticks": "",
            "zerolinecolor": "white"
           },
           "zaxis": {
            "backgroundcolor": "#E5ECF6",
            "gridcolor": "white",
            "gridwidth": 2,
            "linecolor": "white",
            "showbackground": true,
            "ticks": "",
            "zerolinecolor": "white"
           }
          },
          "shapedefaults": {
           "line": {
            "color": "#2a3f5f"
           }
          },
          "ternary": {
           "aaxis": {
            "gridcolor": "white",
            "linecolor": "white",
            "ticks": ""
           },
           "baxis": {
            "gridcolor": "white",
            "linecolor": "white",
            "ticks": ""
           },
           "bgcolor": "#E5ECF6",
           "caxis": {
            "gridcolor": "white",
            "linecolor": "white",
            "ticks": ""
           }
          },
          "title": {
           "x": 0.05
          },
          "xaxis": {
           "automargin": true,
           "gridcolor": "white",
           "linecolor": "white",
           "ticks": "",
           "title": {
            "standoff": 15
           },
           "zerolinecolor": "white",
           "zerolinewidth": 2
          },
          "yaxis": {
           "automargin": true,
           "gridcolor": "white",
           "linecolor": "white",
           "ticks": "",
           "title": {
            "standoff": 15
           },
           "zerolinecolor": "white",
           "zerolinewidth": 2
          }
         }
        },
        "title": {
         "text": "Bitcoin Candlestick Chart Over Past 90 Days"
        },
        "xaxis": {
         "rangeslider": {
          "visible": true
         },
         "title": {
          "text": "Date"
         }
        },
        "yaxis": {
         "title": {
          "text": "Price (usd $)"
         }
        }
       }
      }
     },
     "metadata": {},
     "output_type": "display_data"
    }
   ],
   "source": [
    "\n",
    "fig=go.Figure(data=[go.Candlestick(x=candlestick_data.index,\n",
    "                                   open=candlestick_data[\"Price\"][\"first\"],\n",
    "                                   high=candlestick_data[\"Price\"][\"max\"],\n",
    "                                   low=candlestick_data[\"Price\"][\"min\"],\n",
    "                                   close=candlestick_data[\"Price\"][\"last\"]\n",
    "                                   )])\n",
    "fig.update_layout(xaxis_rangeslider_visible=True,xaxis_title=\"Date\",yaxis_title=\"Price (usd $)\",\n",
    "                  title=\"Bitcoin Candlestick Chart Over Past 90 Days\")\n",
    "fig.show()\n",
    "#plot(fig,filename=\"Bitcoin_Candlestick_graph.html\")\n",
    "#https://g.co/kgs/4Ufvjh\n",
    "#https://g.co/kgs/c6WAuk\n",
    "#https://g.co/kgs/tQ8mwp"
   ]
  },
  {
   "cell_type": "code",
   "execution_count": null,
   "metadata": {},
   "outputs": [],
   "source": []
  }
 ],
 "metadata": {
  "kernelspec": {
   "display_name": "IBM_Data_analyst",
   "language": "python",
   "name": "python3"
  },
  "language_info": {
   "codemirror_mode": {
    "name": "ipython",
    "version": 3
   },
   "file_extension": ".py",
   "mimetype": "text/x-python",
   "name": "python",
   "nbconvert_exporter": "python",
   "pygments_lexer": "ipython3",
   "version": "3.11.5"
  }
 },
 "nbformat": 4,
 "nbformat_minor": 2
}
